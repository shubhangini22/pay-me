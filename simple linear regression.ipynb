{
  "nbformat": 4,
  "nbformat_minor": 0,
  "metadata": {
    "colab": {
      "name": "Copy of simple_linear_regression.ipynb",
      "provenance": []
    },
    "kernelspec": {
      "name": "python3",
      "display_name": "Python 3"
    }
  },
  "cells": [
    {
      "cell_type": "markdown",
      "metadata": {
        "id": "l_LulNCC8z96"
      },
      "source": [
        "# Simple Linear Regression"
      ]
    },
    {
      "cell_type": "markdown",
      "metadata": {
        "id": "xpXdowrE9DxW"
      },
      "source": [
        "## Importing the libraries"
      ]
    },
    {
      "cell_type": "code",
      "source": [
        "import numpy as np\n",
        "#importing numpy library for traversing through arrays and data in table\n",
        "import matplotlib.pyplot as plt\n",
        "#importing pyplot from metaplotlib library for all that graphics look\n",
        "import pandas as pd\n",
        "#importing pandas for data cleaning and analysis\n",
        "\n"
      ],
      "metadata": {
        "id": "dDllMEzAwX_x"
      },
      "execution_count": 8,
      "outputs": []
    },
    {
      "cell_type": "markdown",
      "metadata": {
        "id": "6JhpWJi59J1p"
      },
      "source": [
        "## Importing the dataset"
      ]
    },
    {
      "cell_type": "code",
      "source": [
        "dataset = pd.read_csv('Salary_Data.csv.csv')\n",
        "#we are importing the dataset required\n",
        "X = dataset.iloc[:, :-1].values\n",
        "#independent variable containing years of experience\n",
        "y = dataset.iloc[:, -1].values\n",
        "#dependent variable contains the salary corresponding to years of experience"
      ],
      "metadata": {
        "id": "v_tZhRmPx-NR"
      },
      "execution_count": 9,
      "outputs": []
    },
    {
      "cell_type": "markdown",
      "metadata": {
        "id": "AyhQaTwP9RzG"
      },
      "source": [
        "## Splitting the dataset into the Training set and Test set"
      ]
    },
    {
      "cell_type": "code",
      "source": [
        "from sklearn.model_selection import train_test_split\n",
        "X_train, X_test, y_train, y_test = train_test_split(X, y, test_size = 0.2, random_state = 0)"
      ],
      "metadata": {
        "id": "PKFZTQ1Ayh_w"
      },
      "execution_count": 10,
      "outputs": []
    },
    {
      "cell_type": "markdown",
      "metadata": {
        "id": "ZijQwFMQ9itx"
      },
      "source": [
        "## Training the Simple Linear Regression model on the Training set"
      ]
    },
    {
      "cell_type": "code",
      "source": [
        "from sklearn.linear_model import LinearRegression\n",
        "regressor = LinearRegression()\n",
        "#this line will automatically create the model\n",
        "#declaration of variable for class\n",
        "regressor.fit(X_train,y_train)\n",
        "#this is used for connecting to the training set\n",
        "#a function inside linear regression to connect to the train set and run model"
      ],
      "metadata": {
        "colab": {
          "base_uri": "https://localhost:8080/"
        },
        "id": "fYhk2xzO5hc6",
        "outputId": "cb6d15d1-1afb-497e-ada3-b4d036aaa92a"
      },
      "execution_count": 11,
      "outputs": [
        {
          "output_type": "execute_result",
          "data": {
            "text/plain": [
              "LinearRegression()"
            ]
          },
          "metadata": {},
          "execution_count": 11
        }
      ]
    },
    {
      "cell_type": "markdown",
      "metadata": {
        "id": "wa2T1Lq89o5H"
      },
      "source": [
        "## Predicting the Test set results"
      ]
    },
    {
      "cell_type": "code",
      "source": [
        "y_pred=regressor.predict(X_test)\n",
        "#solution for predicting the required results \n",
        "#y_pred contains the predicted results and y_test contains the actual salary\n"
      ],
      "metadata": {
        "id": "OleeOZ4p9TMn"
      },
      "execution_count": 12,
      "outputs": []
    },
    {
      "cell_type": "markdown",
      "metadata": {
        "id": "-zSoMZ-P9v8t"
      },
      "source": [
        "## Visualising the Training set results"
      ]
    },
    {
      "cell_type": "code",
      "source": [
        "plt.scatter(X_train,y_train,color='red')\n",
        "plt.plot(X_train,regressor.predict(X_train),color='blue')\n",
        "plt.title('Salary Vs Expereience (Training set)')\n",
        "#to give title to the graph\n",
        "plt.xlabel('Years of Experience')\n",
        "#x-axis label\n",
        "plt.ylabel('Salary')\n",
        "#y-axis labe;\n",
        "plt.show()"
      ],
      "metadata": {
        "colab": {
          "base_uri": "https://localhost:8080/",
          "height": 295
        },
        "id": "ciAamRxiGbwJ",
        "outputId": "466f4670-3cc2-464b-a735-7edd9e13e9e1"
      },
      "execution_count": 13,
      "outputs": [
        {
          "output_type": "display_data",
          "data": {
            "text/plain": [
              "<Figure size 432x288 with 1 Axes>"
            ],
            "image/png": "[encoded data removed]"
          },
          "metadata": {
            "needs_background": "light"
          }
        }
      ]
    },
    {
      "cell_type": "markdown",
      "metadata": {
        "id": "EUX1Vhsv97ZT"
      },
      "source": [
        "## Visualising the Test set results"
      ]
    },
    {
      "cell_type": "code",
      "source": [
        "plt.scatter(X_test,y_test,color='red')\n",
        "plt.plot(X_train,regressor.predict(X_train),color='blue')\n",
        "#this statement will remain same for both the visualizations\n",
        "plt.title('Salary Vs Expereience (Training set)')\n",
        "#to give title to the graph\n",
        "plt.xlabel('Years of Experience')\n",
        "#x-axis label\n",
        "plt.ylabel('Salary')\n",
        "#y-axis labe;\n",
        "plt.show()"
      ],
      "metadata": {
        "colab": {
          "base_uri": "https://localhost:8080/",
          "height": 295
        },
        "id": "33vvNNaVTS1F",
        "outputId": "7596cad5-4c9b-4408-b594-1f6b9b9de13c"
      },
      "execution_count": 14,
      "outputs": [
        {
          "output_type": "display_data",
          "data": {
            "text/plain": [
              "<Figure size 432x288 with 1 Axes>"
            ],
            "image/png": "[encoded data removed]"
          },
          "metadata": {
            "needs_background": "light"
          }
        }
      ]
    }
  ]
}